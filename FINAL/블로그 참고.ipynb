{
 "cells": [
  {
   "cell_type": "markdown",
   "id": "3000f030",
   "metadata": {},
   "source": [
    "https://ddingmin00.tistory.com/entry/Selenium-%ED%8E%98%EC%9D%B4%EC%A7%80%EB%A5%BC-%EB%82%B4%EB%A0%A4%EA%B0%80%EB%A9%B0-%EB%AC%B4%ED%95%9C-%ED%81%AC%EB%A1%A4%EB%A7%81-%ED%95%98%EA%B8%B0"
   ]
  },
  {
   "cell_type": "code",
   "execution_count": null,
   "id": "8e2cd658",
   "metadata": {},
   "outputs": [],
   "source": [
    "# from selenium import webdriver\n",
    "# from selenium.webdriver.common.by import By\n",
    "# from selenium.webdriver.common.keys import Keys\n",
    "# from selenium.webdriver.chrome.options import Options\n",
    "# from selenium.webdriver.chrome.service import Service\n",
    "# from webdriver_manager.chrome import ChromeDriverManager\n",
    "\n",
    "# import time"
   ]
  },
  {
   "cell_type": "code",
   "execution_count": null,
   "id": "f8e68e54",
   "metadata": {},
   "outputs": [],
   "source": [
    "# option 만들기\n",
    "# options = Options()\n",
    "# options.add_experimental_option(\"detach\", True)\n",
    "# service = Service(ChromeDriverManager().install())\n",
    "# driver=webdriver.Chrome(service=service, options=options)"
   ]
  },
  {
   "cell_type": "code",
   "execution_count": null,
   "id": "187045e5",
   "metadata": {},
   "outputs": [],
   "source": [
    "# actions = driver.find_element(By.CSS_SELECTOR, 'body')\n",
    "# actions.send_keys(Keys.END)"
   ]
  },
  {
   "cell_type": "code",
   "execution_count": 23,
   "id": "0cd196e6",
   "metadata": {},
   "outputs": [
    {
     "name": "stdout",
     "output_type": "stream",
     "text": [
      "가져온 상품 수:  240\n",
      "상품:  치즈볼\n",
      "난이도:  초급\n",
      "주소:  https://wtable.co.kr/recipes/ddmTZR6jBFNzbXdzZJ7AjLCu?location=recipe_home\n",
      "\n",
      "상품:  치즈볼\n",
      "난이도:  초급\n",
      "주소:  https://wtable.co.kr/recipes/ggpjdY7Xs2AyjCCwPohGhabt?location=recipe_home\n",
      "\n",
      "상품:  치즈볼\n",
      "난이도:  초급\n",
      "주소:  https://wtable.co.kr/recipes/5cEMJ2c75qBM6x7iQqnCWASv?location=recipe_home\n",
      "\n"
     ]
    }
   ],
   "source": [
    "from selenium import webdriver\n",
    "from selenium.webdriver.common.by import By\n",
    "from selenium.webdriver.chrome.service import Service\n",
    "from webdriver_manager.chrome import ChromeDriverManager\n",
    "\n",
    "from selenium.webdriver.common.keys import Keys\n",
    "import time\n",
    "\n",
    "import pandas as pd\n",
    "from tqdm import tqdm\n",
    "\n",
    "driver = webdriver.Chrome(service= Service(ChromeDriverManager().install()))\n",
    "url = \"https://wtable.co.kr/recipes\"\n",
    "\n",
    "menu_selector = \"#__next > div > main > div > div > div > section:nth-child(3) > section > div > div > div > a > div > p.RecipeItemstyle__Title-sc-1gt7vz8-3.hpYiJK\"\n",
    "level_selector = \"#__next > div > main > div > div > div > section:nth-child(3) > section > div > div > div > a:nth-child(37) > div > div > div.RecipeItemstyle__Time-sc-1gt7vz8-6.RecipeItemstyle__Level-sc-1gt7vz8-7.gvzBms > span\"\n",
    "links_selector = \"#__next > div > main > div > div > div > section:nth-child(3) > section > div > div > div > a\"\n",
    "\n",
    "driver.get(url)\n",
    "\n",
    "actions = driver.find_element(By.CSS_SELECTOR, 'body')\n",
    "\n",
    "def crawling(count):\n",
    "    menus, levels, links = [], [], []\n",
    "    \n",
    "    for _ in range(count):\n",
    "        for i in driver.find_elements(By.CSS_SELECTOR, menu_selector):\n",
    "            menus.append(i.text)\n",
    "        for i in driver.find_elements(By.CSS_SELECTOR, level_selector):\n",
    "            levels.append(i.text)\n",
    "        for i in driver.find_elements(By.CSS_SELECTOR, links_selector):\n",
    "            links.append(i.get_attribute(\"href\"))\n",
    "        actions.send_keys(Keys.END)\n",
    "        time.sleep(.8)\n",
    "    \n",
    "    return menus, levels, links\n",
    "\n",
    "\n",
    "menus, levels, links = crawling(3)\n",
    "\n",
    "print(\"가져온 상품 수: \", len(menus))\n",
    "for level, level, link in zip(menus, levels, links):\n",
    "    print(\"상품: \", menu)\n",
    "    print(\"난이도: \", level)\n",
    "    print(\"주소: \", link)\n",
    "    print()"
   ]
  },
  {
   "cell_type": "code",
   "execution_count": 22,
   "id": "f8f78d42",
   "metadata": {},
   "outputs": [
    {
     "data": {
      "text/plain": [
       "array(['초급'], dtype=object)"
      ]
     },
     "execution_count": 22,
     "metadata": {},
     "output_type": "execute_result"
    }
   ],
   "source": [
    "df_1 = pd.DataFrame({\n",
    "    '메뉴': menus,\n",
    "    '난이도': level,\n",
    "    '주소': links\n",
    "})\n",
    "\n",
    "df_1['난이도'].unique()"
   ]
  },
  {
   "cell_type": "code",
   "execution_count": 3,
   "id": "fb9b1d66",
   "metadata": {},
   "outputs": [
    {
     "data": {
      "text/html": [
       "<div>\n",
       "<style scoped>\n",
       "    .dataframe tbody tr th:only-of-type {\n",
       "        vertical-align: middle;\n",
       "    }\n",
       "\n",
       "    .dataframe tbody tr th {\n",
       "        vertical-align: top;\n",
       "    }\n",
       "\n",
       "    .dataframe thead th {\n",
       "        text-align: right;\n",
       "    }\n",
       "</style>\n",
       "<table border=\"1\" class=\"dataframe\">\n",
       "  <thead>\n",
       "    <tr style=\"text-align: right;\">\n",
       "      <th></th>\n",
       "      <th>소요시간</th>\n",
       "      <th>재료</th>\n",
       "    </tr>\n",
       "  </thead>\n",
       "  <tbody>\n",
       "    <tr>\n",
       "      <th>0</th>\n",
       "      <td>30분</td>\n",
       "      <td>[찹쌀가루, 밀가루(중력분), 설탕, 베이킹파우더, 우유, 소금, 모짜렐라 치즈, ...</td>\n",
       "    </tr>\n",
       "    <tr>\n",
       "      <th>1</th>\n",
       "      <td>30분</td>\n",
       "      <td>[칼솟, 파프리카(노랑, 빨강), 볶은 아몬드, 토마토소스, 깐 마늘, 올리브오일,...</td>\n",
       "    </tr>\n",
       "    <tr>\n",
       "      <th>2</th>\n",
       "      <td>20분</td>\n",
       "      <td>[꼬시래기, 치킨스테이크(또는 닭가슴살), 샐러드 채소, 된장, 매실액, 현미식초]</td>\n",
       "    </tr>\n",
       "    <tr>\n",
       "      <th>3</th>\n",
       "      <td>20분</td>\n",
       "      <td>[꼬시래기, 깻잎, 양파, 오이, 통깨, 식초, 소금, 고추장, 고춧가루, 식초, ...</td>\n",
       "    </tr>\n",
       "    <tr>\n",
       "      <th>4</th>\n",
       "      <td>20분</td>\n",
       "      <td>[꼬시래기, 시판용 냉면육수, 오이, 삶은 달걀, 쌈무, 통깨, 소금, 식초, 고추...</td>\n",
       "    </tr>\n",
       "  </tbody>\n",
       "</table>\n",
       "</div>"
      ],
      "text/plain": [
       "  소요시간                                                 재료\n",
       "0  30분  [찹쌀가루, 밀가루(중력분), 설탕, 베이킹파우더, 우유, 소금, 모짜렐라 치즈, ...\n",
       "1  30분  [칼솟, 파프리카(노랑, 빨강), 볶은 아몬드, 토마토소스, 깐 마늘, 올리브오일,...\n",
       "2  20분     [꼬시래기, 치킨스테이크(또는 닭가슴살), 샐러드 채소, 된장, 매실액, 현미식초]\n",
       "3  20분  [꼬시래기, 깻잎, 양파, 오이, 통깨, 식초, 소금, 고추장, 고춧가루, 식초, ...\n",
       "4  20분  [꼬시래기, 시판용 냉면육수, 오이, 삶은 달걀, 쌈무, 통깨, 소금, 식초, 고추..."
      ]
     },
     "execution_count": 3,
     "metadata": {},
     "output_type": "execute_result"
    }
   ],
   "source": [
    "import pandas as pd\n",
    "\n",
    "def get_recipe_info(link):\n",
    "    driver.get(link)\n",
    "    time.sleep(.5)\n",
    "    \n",
    "    # 소요시간 가져오기\n",
    "    time_selector = \"#__next > div > main > div.token__Component-sc-1o2h3sm-0.jjTxDH > section > div.RecipeDetailstyle__Summary-q7sykd-5.iObVZL > div.RecipeDetailstyle__Level-q7sykd-6.RecipeDetailstyle__Time-q7sykd-7.cEiCHw > p:nth-child(2)\"\n",
    "    try:\n",
    "        cook_time = driver.find_element(By.CSS_SELECTOR, time_selector).text.strip()\n",
    "    except:\n",
    "        cook_time = \"N/A\"\n",
    "    \n",
    "    # 재료 가져오기\n",
    "    ##__next > div > main > div.token__Component-sc-1o2h3sm-0.jjTxDH > div:nth-child(3) > div > ul > li:nth-child(1) > ul > li:nth-child(3) > div > div:nth-child(1)\n",
    "    ing_selector = \"#__next > div > main > div.token__Component-sc-1o2h3sm-0.jjTxDH > div:nth-child(3) > div > ul > li > ul > li > div > div:nth-child(1)\"\n",
    "    ings = []\n",
    "    for ing in driver.find_elements(By.CSS_SELECTOR, ing_selector):\n",
    "        ings.append(ing.text)\n",
    "    \n",
    "    return cook_time, ings\n",
    "\n",
    "results = []\n",
    "for link in links:\n",
    "    cook_time, ings = get_recipe_info(link)\n",
    "    results.append([cook_time, ings])\n",
    "\n",
    "df = pd.DataFrame(results, columns=[\"소요시간\", \"재료\"])\n",
    "df.head()"
   ]
  },
  {
   "cell_type": "code",
   "execution_count": 4,
   "id": "18a39b5f",
   "metadata": {},
   "outputs": [
    {
     "data": {
      "text/html": [
       "<div>\n",
       "<style scoped>\n",
       "    .dataframe tbody tr th:only-of-type {\n",
       "        vertical-align: middle;\n",
       "    }\n",
       "\n",
       "    .dataframe tbody tr th {\n",
       "        vertical-align: top;\n",
       "    }\n",
       "\n",
       "    .dataframe thead th {\n",
       "        text-align: right;\n",
       "    }\n",
       "</style>\n",
       "<table border=\"1\" class=\"dataframe\">\n",
       "  <thead>\n",
       "    <tr style=\"text-align: right;\">\n",
       "      <th></th>\n",
       "      <th>상품</th>\n",
       "      <th>난이도</th>\n",
       "      <th>주소</th>\n",
       "      <th>소요시간</th>\n",
       "      <th>재료</th>\n",
       "    </tr>\n",
       "  </thead>\n",
       "  <tbody>\n",
       "    <tr>\n",
       "      <th>0</th>\n",
       "      <td>치즈볼</td>\n",
       "      <td>초급</td>\n",
       "      <td>https://wtable.co.kr/recipes/ddmTZR6jBFNzbXdzZ...</td>\n",
       "      <td>30분</td>\n",
       "      <td>[찹쌀가루, 밀가루(중력분), 설탕, 베이킹파우더, 우유, 소금, 모짜렐라 치즈, ...</td>\n",
       "    </tr>\n",
       "    <tr>\n",
       "      <th>1</th>\n",
       "      <td>칼솟타다</td>\n",
       "      <td>초급</td>\n",
       "      <td>https://wtable.co.kr/recipes/ggpjdY7Xs2AyjCCwP...</td>\n",
       "      <td>30분</td>\n",
       "      <td>[칼솟, 파프리카(노랑, 빨강), 볶은 아몬드, 토마토소스, 깐 마늘, 올리브오일,...</td>\n",
       "    </tr>\n",
       "  </tbody>\n",
       "</table>\n",
       "</div>"
      ],
      "text/plain": [
       "     상품 난이도                                                 주소 소요시간  \\\n",
       "0   치즈볼  초급  https://wtable.co.kr/recipes/ddmTZR6jBFNzbXdzZ...  30분   \n",
       "1  칼솟타다  초급  https://wtable.co.kr/recipes/ggpjdY7Xs2AyjCCwP...  30분   \n",
       "\n",
       "                                                  재료  \n",
       "0  [찹쌀가루, 밀가루(중력분), 설탕, 베이킹파우더, 우유, 소금, 모짜렐라 치즈, ...  \n",
       "1  [칼솟, 파프리카(노랑, 빨강), 볶은 아몬드, 토마토소스, 깐 마늘, 올리브오일,...  "
      ]
     },
     "execution_count": 4,
     "metadata": {},
     "output_type": "execute_result"
    }
   ],
   "source": [
    "all = pd.concat([df_1, df], axis=1)\n",
    "all"
   ]
  },
  {
   "cell_type": "code",
   "execution_count": null,
   "id": "444ab02d",
   "metadata": {},
   "outputs": [],
   "source": []
  },
  {
   "cell_type": "code",
   "execution_count": null,
   "id": "e06c54d5",
   "metadata": {},
   "outputs": [],
   "source": []
  },
  {
   "cell_type": "code",
   "execution_count": null,
   "id": "00149b6d",
   "metadata": {},
   "outputs": [],
   "source": []
  },
  {
   "cell_type": "code",
   "execution_count": null,
   "id": "b23b0fc0",
   "metadata": {},
   "outputs": [],
   "source": []
  },
  {
   "cell_type": "code",
   "execution_count": null,
   "id": "c21c3b03",
   "metadata": {},
   "outputs": [],
   "source": []
  },
  {
   "cell_type": "code",
   "execution_count": null,
   "id": "40b4437d",
   "metadata": {},
   "outputs": [],
   "source": []
  }
 ],
 "metadata": {
  "kernelspec": {
   "display_name": "Python 3 (ipykernel)",
   "language": "python",
   "name": "python3"
  },
  "language_info": {
   "codemirror_mode": {
    "name": "ipython",
    "version": 3
   },
   "file_extension": ".py",
   "mimetype": "text/x-python",
   "name": "python",
   "nbconvert_exporter": "python",
   "pygments_lexer": "ipython3",
   "version": "3.9.13"
  },
  "toc": {
   "base_numbering": 1,
   "nav_menu": {},
   "number_sections": true,
   "sideBar": true,
   "skip_h1_title": false,
   "title_cell": "Table of Contents",
   "title_sidebar": "Contents",
   "toc_cell": false,
   "toc_position": {},
   "toc_section_display": true,
   "toc_window_display": false
  }
 },
 "nbformat": 4,
 "nbformat_minor": 5
}
