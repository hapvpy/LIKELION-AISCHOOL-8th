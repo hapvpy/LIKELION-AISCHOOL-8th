{
 "cells": [
  {
   "cell_type": "code",
   "execution_count": 1,
   "metadata": {},
   "outputs": [],
   "source": [
    "import requests\n",
    "\n",
    "import pandas as pd\n",
    "import numpy as np\n",
    "import copy\n",
    "import json\n",
    "\n",
    "from ast import literal_eval\n",
    "\n",
    "import torch\n",
    "from sentence_transformers import SentenceTransformer, util\n",
    "from transformers import AutoTokenizer, AutoModel\n",
    "from transformers import OwlViTProcessor, OwlViTForObjectDetection\n",
    "from transformers import pipeline\n",
    "from transformers import GPT2TokenizerFast\n",
    "from PIL import Image\n",
    "\n",
    "from tqdm import tqdm\n",
    "tqdm.pandas()\n",
    "\n",
    "import pickle"
   ]
  },
  {
   "cell_type": "code",
   "execution_count": 2,
   "metadata": {},
   "outputs": [],
   "source": [
    "import matplotlib.pyplot as plt\n",
    "from typing import List, Tuple, Dict\n",
    "\n",
    "import sklearn.datasets as datasets\n",
    "import sklearn.manifold as manifold"
   ]
  },
  {
   "cell_type": "code",
   "execution_count": 3,
   "metadata": {},
   "outputs": [],
   "source": [
    "import openai\n",
    "import os\n",
    "import sys\n",
    "from dotenv import load_dotenv\n",
    "\n",
    "load_dotenv()    \n",
    "openai.api_key = os.getenv('OPENAI_API_KEY')"
   ]
  },
  {
   "cell_type": "code",
   "execution_count": 4,
   "metadata": {},
   "outputs": [],
   "source": [
    "cur_os = sys.platform"
   ]
  },
  {
   "cell_type": "code",
   "execution_count": 5,
   "metadata": {},
   "outputs": [],
   "source": [
    "# mps_device = torch.device('mps')"
   ]
  },
  {
   "cell_type": "code",
   "execution_count": 6,
   "metadata": {},
   "outputs": [
    {
     "data": {
      "text/plain": [
       "(4298, 7)"
      ]
     },
     "execution_count": 6,
     "metadata": {},
     "output_type": "execute_result"
    }
   ],
   "source": [
    "df = pd.read_csv('../data/recipes_after.csv')\n",
    "df.shape"
   ]
  },
  {
   "cell_type": "code",
   "execution_count": 7,
   "metadata": {},
   "outputs": [
    {
     "data": {
      "text/html": [
       "<div>\n",
       "<style scoped>\n",
       "    .dataframe tbody tr th:only-of-type {\n",
       "        vertical-align: middle;\n",
       "    }\n",
       "\n",
       "    .dataframe tbody tr th {\n",
       "        vertical-align: top;\n",
       "    }\n",
       "\n",
       "    .dataframe thead th {\n",
       "        text-align: right;\n",
       "    }\n",
       "</style>\n",
       "<table border=\"1\" class=\"dataframe\">\n",
       "  <thead>\n",
       "    <tr style=\"text-align: right;\">\n",
       "      <th></th>\n",
       "      <th>요리</th>\n",
       "      <th>종류</th>\n",
       "      <th>난이도</th>\n",
       "      <th>소요시간</th>\n",
       "      <th>링크</th>\n",
       "      <th>재료</th>\n",
       "      <th>재료수</th>\n",
       "    </tr>\n",
       "  </thead>\n",
       "  <tbody>\n",
       "    <tr>\n",
       "      <th>0</th>\n",
       "      <td>꼬시래기 물냉면</td>\n",
       "      <td>메인요리</td>\n",
       "      <td>1</td>\n",
       "      <td>20</td>\n",
       "      <td>https://wtable.co.kr/recipes/GdRMuEBF9nXVJAtqw...</td>\n",
       "      <td>꼬시래기 통깨 고춧가루 용냉면육수 오이 달걀 쌈무 고추장 소금 식초 매실청 참기름</td>\n",
       "      <td>12</td>\n",
       "    </tr>\n",
       "    <tr>\n",
       "      <th>1</th>\n",
       "      <td>닭죽</td>\n",
       "      <td>메인요리</td>\n",
       "      <td>1</td>\n",
       "      <td>30</td>\n",
       "      <td>https://wtable.co.kr/recipes/QawUyVgt3e5wvCT9d...</td>\n",
       "      <td>통깨 찹쌀밥 다진당근 물 소금 닭가슴살 통마늘 참기름</td>\n",
       "      <td>8</td>\n",
       "    </tr>\n",
       "  </tbody>\n",
       "</table>\n",
       "</div>"
      ],
      "text/plain": [
       "         요리    종류  난이도  소요시간   \n",
       "0  꼬시래기 물냉면  메인요리    1    20  \\\n",
       "1        닭죽  메인요리    1    30   \n",
       "\n",
       "                                                  링크   \n",
       "0  https://wtable.co.kr/recipes/GdRMuEBF9nXVJAtqw...  \\\n",
       "1  https://wtable.co.kr/recipes/QawUyVgt3e5wvCT9d...   \n",
       "\n",
       "                                              재료  재료수  \n",
       "0  꼬시래기 통깨 고춧가루 용냉면육수 오이 달걀 쌈무 고추장 소금 식초 매실청 참기름   12  \n",
       "1                  통깨 찹쌀밥 다진당근 물 소금 닭가슴살 통마늘 참기름    8  "
      ]
     },
     "execution_count": 7,
     "metadata": {},
     "output_type": "execute_result"
    }
   ],
   "source": [
    "df.head(2)"
   ]
  },
  {
   "cell_type": "code",
   "execution_count": 8,
   "metadata": {},
   "outputs": [
    {
     "data": {
      "text/html": [
       "<div>\n",
       "<style scoped>\n",
       "    .dataframe tbody tr th:only-of-type {\n",
       "        vertical-align: middle;\n",
       "    }\n",
       "\n",
       "    .dataframe tbody tr th {\n",
       "        vertical-align: top;\n",
       "    }\n",
       "\n",
       "    .dataframe thead th {\n",
       "        text-align: right;\n",
       "    }\n",
       "</style>\n",
       "<table border=\"1\" class=\"dataframe\">\n",
       "  <thead>\n",
       "    <tr style=\"text-align: right;\">\n",
       "      <th></th>\n",
       "      <th>요리</th>\n",
       "      <th>종류</th>\n",
       "      <th>난이도</th>\n",
       "      <th>소요시간</th>\n",
       "      <th>링크</th>\n",
       "      <th>재료</th>\n",
       "      <th>재료수</th>\n",
       "      <th>feature</th>\n",
       "    </tr>\n",
       "  </thead>\n",
       "  <tbody>\n",
       "    <tr>\n",
       "      <th>0</th>\n",
       "      <td>꼬시래기 물냉면</td>\n",
       "      <td>메인요리</td>\n",
       "      <td>1</td>\n",
       "      <td>20</td>\n",
       "      <td>https://wtable.co.kr/recipes/GdRMuEBF9nXVJAtqw...</td>\n",
       "      <td>꼬시래기 통깨 고춧가루 용냉면육수 오이 달걀 쌈무 고추장 소금 식초 매실청 참기름</td>\n",
       "      <td>12</td>\n",
       "      <td>꼬시래기 통깨 고춧가루 용냉면육수 오이 달걀 쌈무 고추장 소금 식초 매실청 참기름</td>\n",
       "    </tr>\n",
       "    <tr>\n",
       "      <th>1</th>\n",
       "      <td>닭죽</td>\n",
       "      <td>메인요리</td>\n",
       "      <td>1</td>\n",
       "      <td>30</td>\n",
       "      <td>https://wtable.co.kr/recipes/QawUyVgt3e5wvCT9d...</td>\n",
       "      <td>통깨 찹쌀밥 다진당근 물 소금 닭가슴살 통마늘 참기름</td>\n",
       "      <td>8</td>\n",
       "      <td>통깨 찹쌀밥 다진당근 물 소금 닭가슴살 통마늘 참기름</td>\n",
       "    </tr>\n",
       "  </tbody>\n",
       "</table>\n",
       "</div>"
      ],
      "text/plain": [
       "         요리    종류  난이도  소요시간   \n",
       "0  꼬시래기 물냉면  메인요리    1    20  \\\n",
       "1        닭죽  메인요리    1    30   \n",
       "\n",
       "                                                  링크   \n",
       "0  https://wtable.co.kr/recipes/GdRMuEBF9nXVJAtqw...  \\\n",
       "1  https://wtable.co.kr/recipes/QawUyVgt3e5wvCT9d...   \n",
       "\n",
       "                                              재료  재료수   \n",
       "0  꼬시래기 통깨 고춧가루 용냉면육수 오이 달걀 쌈무 고추장 소금 식초 매실청 참기름   12  \\\n",
       "1                  통깨 찹쌀밥 다진당근 물 소금 닭가슴살 통마늘 참기름    8   \n",
       "\n",
       "                                         feature  \n",
       "0  꼬시래기 통깨 고춧가루 용냉면육수 오이 달걀 쌈무 고추장 소금 식초 매실청 참기름  \n",
       "1                  통깨 찹쌀밥 다진당근 물 소금 닭가슴살 통마늘 참기름  "
      ]
     },
     "execution_count": 8,
     "metadata": {},
     "output_type": "execute_result"
    }
   ],
   "source": [
    "df['feature'] = df['재료']\n",
    "df.head(2)"
   ]
  },
  {
   "cell_type": "code",
   "execution_count": 9,
   "metadata": {},
   "outputs": [
    {
     "data": {
      "text/plain": [
       "SentenceTransformer(\n",
       "  (0): Transformer({'max_seq_length': 128, 'do_lower_case': False}) with Transformer model: BertModel \n",
       "  (1): Pooling({'word_embedding_dimension': 768, 'pooling_mode_cls_token': False, 'pooling_mode_mean_tokens': True, 'pooling_mode_max_tokens': False, 'pooling_mode_mean_sqrt_len_tokens': False})\n",
       ")"
      ]
     },
     "execution_count": 9,
     "metadata": {},
     "output_type": "execute_result"
    }
   ],
   "source": [
    "model = SentenceTransformer('snunlp/KR-SBERT-V40K-klueNLI-augSTS')\n",
    "model"
   ]
  },
  {
   "cell_type": "code",
   "execution_count": 10,
   "metadata": {},
   "outputs": [
    {
     "name": "stderr",
     "output_type": "stream",
     "text": [
      "100%|██████████| 4298/4298 [03:28<00:00, 20.63it/s]\n"
     ]
    },
    {
     "data": {
      "text/plain": [
       "(4298, 9)"
      ]
     },
     "execution_count": 10,
     "metadata": {},
     "output_type": "execute_result"
    }
   ],
   "source": [
    "df['embeddings'] = df['feature'].progress_apply(lambda x : model.encode(x))\n",
    "df.shape"
   ]
  },
  {
   "cell_type": "code",
   "execution_count": 11,
   "metadata": {},
   "outputs": [
    {
     "data": {
      "text/html": [
       "<div>\n",
       "<style scoped>\n",
       "    .dataframe tbody tr th:only-of-type {\n",
       "        vertical-align: middle;\n",
       "    }\n",
       "\n",
       "    .dataframe tbody tr th {\n",
       "        vertical-align: top;\n",
       "    }\n",
       "\n",
       "    .dataframe thead th {\n",
       "        text-align: right;\n",
       "    }\n",
       "</style>\n",
       "<table border=\"1\" class=\"dataframe\">\n",
       "  <thead>\n",
       "    <tr style=\"text-align: right;\">\n",
       "      <th></th>\n",
       "      <th>요리</th>\n",
       "      <th>종류</th>\n",
       "      <th>난이도</th>\n",
       "      <th>소요시간</th>\n",
       "      <th>링크</th>\n",
       "      <th>재료</th>\n",
       "      <th>재료수</th>\n",
       "      <th>feature</th>\n",
       "      <th>embeddings</th>\n",
       "    </tr>\n",
       "  </thead>\n",
       "  <tbody>\n",
       "    <tr>\n",
       "      <th>0</th>\n",
       "      <td>꼬시래기 물냉면</td>\n",
       "      <td>메인요리</td>\n",
       "      <td>1</td>\n",
       "      <td>20</td>\n",
       "      <td>https://wtable.co.kr/recipes/GdRMuEBF9nXVJAtqw...</td>\n",
       "      <td>꼬시래기 통깨 고춧가루 용냉면육수 오이 달걀 쌈무 고추장 소금 식초 매실청 참기름</td>\n",
       "      <td>12</td>\n",
       "      <td>꼬시래기 통깨 고춧가루 용냉면육수 오이 달걀 쌈무 고추장 소금 식초 매실청 참기름</td>\n",
       "      <td>[-0.42411768, 0.5387487, 0.7363548, -0.1657364...</td>\n",
       "    </tr>\n",
       "    <tr>\n",
       "      <th>1</th>\n",
       "      <td>닭죽</td>\n",
       "      <td>메인요리</td>\n",
       "      <td>1</td>\n",
       "      <td>30</td>\n",
       "      <td>https://wtable.co.kr/recipes/QawUyVgt3e5wvCT9d...</td>\n",
       "      <td>통깨 찹쌀밥 다진당근 물 소금 닭가슴살 통마늘 참기름</td>\n",
       "      <td>8</td>\n",
       "      <td>통깨 찹쌀밥 다진당근 물 소금 닭가슴살 통마늘 참기름</td>\n",
       "      <td>[-0.05461666, 0.60962063, 0.9323036, -1.147650...</td>\n",
       "    </tr>\n",
       "  </tbody>\n",
       "</table>\n",
       "</div>"
      ],
      "text/plain": [
       "         요리    종류  난이도  소요시간   \n",
       "0  꼬시래기 물냉면  메인요리    1    20  \\\n",
       "1        닭죽  메인요리    1    30   \n",
       "\n",
       "                                                  링크   \n",
       "0  https://wtable.co.kr/recipes/GdRMuEBF9nXVJAtqw...  \\\n",
       "1  https://wtable.co.kr/recipes/QawUyVgt3e5wvCT9d...   \n",
       "\n",
       "                                              재료  재료수   \n",
       "0  꼬시래기 통깨 고춧가루 용냉면육수 오이 달걀 쌈무 고추장 소금 식초 매실청 참기름   12  \\\n",
       "1                  통깨 찹쌀밥 다진당근 물 소금 닭가슴살 통마늘 참기름    8   \n",
       "\n",
       "                                         feature   \n",
       "0  꼬시래기 통깨 고춧가루 용냉면육수 오이 달걀 쌈무 고추장 소금 식초 매실청 참기름  \\\n",
       "1                  통깨 찹쌀밥 다진당근 물 소금 닭가슴살 통마늘 참기름   \n",
       "\n",
       "                                          embeddings  \n",
       "0  [-0.42411768, 0.5387487, 0.7363548, -0.1657364...  \n",
       "1  [-0.05461666, 0.60962063, 0.9323036, -1.147650...  "
      ]
     },
     "execution_count": 11,
     "metadata": {},
     "output_type": "execute_result"
    }
   ],
   "source": [
    "df.head(2)"
   ]
  },
  {
   "cell_type": "code",
   "execution_count": 12,
   "metadata": {},
   "outputs": [],
   "source": [
    "def get_query_sim_top_k(query, model, df):\n",
    "    query_encode = model.encode(query)\n",
    "    cos_scores = util.pytorch_cos_sim(query_encode, df['embeddings'])[0]\n",
    "    top_results = torch.topk(cos_scores, k=5)\n",
    "    return top_results"
   ]
  },
  {
   "cell_type": "code",
   "execution_count": 13,
   "metadata": {},
   "outputs": [
    {
     "name": "stderr",
     "output_type": "stream",
     "text": [
      "/Users/choimingue/anaconda3/envs/torch/lib/python3.10/site-packages/sentence_transformers/util.py:39: UserWarning: Creating a tensor from a list of numpy.ndarrays is extremely slow. Please consider converting the list to a single numpy.ndarray with numpy.array() before converting to a tensor. (Triggered internally at /Users/runner/work/_temp/anaconda/conda-bld/pytorch_1678454852765/work/torch/csrc/utils/tensor_new.cpp:248.)\n",
      "  b = torch.tensor(b)\n"
     ]
    }
   ],
   "source": [
    "query = '고기 쪽파'\n",
    "top_result = get_query_sim_top_k(query, model, df)"
   ]
  },
  {
   "cell_type": "code",
   "execution_count": 14,
   "metadata": {},
   "outputs": [
    {
     "data": {
      "text/plain": [
       "torch.return_types.topk(\n",
       "values=tensor([0.6566, 0.6546, 0.6475, 0.6429, 0.6380]),\n",
       "indices=tensor([3337, 3339,  316, 1179, 2527]))"
      ]
     },
     "execution_count": 14,
     "metadata": {},
     "output_type": "execute_result"
    }
   ],
   "source": [
    "top_result"
   ]
  },
  {
   "cell_type": "code",
   "execution_count": 15,
   "metadata": {},
   "outputs": [
    {
     "data": {
      "text/html": [
       "<div>\n",
       "<style scoped>\n",
       "    .dataframe tbody tr th:only-of-type {\n",
       "        vertical-align: middle;\n",
       "    }\n",
       "\n",
       "    .dataframe tbody tr th {\n",
       "        vertical-align: top;\n",
       "    }\n",
       "\n",
       "    .dataframe thead th {\n",
       "        text-align: right;\n",
       "    }\n",
       "</style>\n",
       "<table border=\"1\" class=\"dataframe\">\n",
       "  <thead>\n",
       "    <tr style=\"text-align: right;\">\n",
       "      <th></th>\n",
       "      <th>요리</th>\n",
       "      <th>종류</th>\n",
       "      <th>재료</th>\n",
       "    </tr>\n",
       "  </thead>\n",
       "  <tbody>\n",
       "    <tr>\n",
       "      <th>3337</th>\n",
       "      <td>조염새우</td>\n",
       "      <td>중식</td>\n",
       "      <td>대파 간장 식용유 파기름 감자전분 마늘 백후춧가루 소금 설탕 중새우 사천고추 산초가...</td>\n",
       "    </tr>\n",
       "    <tr>\n",
       "      <th>3339</th>\n",
       "      <td>큐민향 양고기 볶음</td>\n",
       "      <td>중식</td>\n",
       "      <td>양고기 물전분 식용유 백후춧가루 설탕 소금 생추왕 쪽파 큐민가루 고수 산초가루 치킨파우더</td>\n",
       "    </tr>\n",
       "    <tr>\n",
       "      <th>316</th>\n",
       "      <td>완탕면</td>\n",
       "      <td>메인요리</td>\n",
       "      <td>면 새우 굴소스 백후추 삼겹살 소금 닭육수 설탕 쪽파 표고버섯 참기름 치킨파우더</td>\n",
       "    </tr>\n",
       "    <tr>\n",
       "      <th>1179</th>\n",
       "      <td>조염 옥수수</td>\n",
       "      <td>간식</td>\n",
       "      <td>식용유 백후추 감자전분 잣 옥수수 설탕 소금 쪽파 산초가루 치킨파우더</td>\n",
       "    </tr>\n",
       "    <tr>\n",
       "      <th>2527</th>\n",
       "      <td>가지 절임</td>\n",
       "      <td>채식</td>\n",
       "      <td>통깨 대파부분 채수 간장 식용유 비정제설탕 식초 쪽파 가지</td>\n",
       "    </tr>\n",
       "  </tbody>\n",
       "</table>\n",
       "</div>"
      ],
      "text/plain": [
       "              요리    종류                                                 재료\n",
       "3337        조염새우    중식  대파 간장 식용유 파기름 감자전분 마늘 백후춧가루 소금 설탕 중새우 사천고추 산초가...\n",
       "3339  큐민향 양고기 볶음    중식  양고기 물전분 식용유 백후춧가루 설탕 소금 생추왕 쪽파 큐민가루 고수 산초가루 치킨파우더\n",
       "316          완탕면  메인요리       면 새우 굴소스 백후추 삼겹살 소금 닭육수 설탕 쪽파 표고버섯 참기름 치킨파우더\n",
       "1179      조염 옥수수    간식             식용유 백후추 감자전분 잣 옥수수 설탕 소금 쪽파 산초가루 치킨파우더\n",
       "2527       가지 절임    채식                   통깨 대파부분 채수 간장 식용유 비정제설탕 식초 쪽파 가지"
      ]
     },
     "execution_count": 15,
     "metadata": {},
     "output_type": "execute_result"
    }
   ],
   "source": [
    "df.iloc[top_result[1].numpy(), :][['요리', '종류', '재료']]"
   ]
  },
  {
   "cell_type": "code",
   "execution_count": 16,
   "metadata": {},
   "outputs": [],
   "source": [
    "def print_msg(msg):\n",
    "    completion = openai.ChatCompletion.create(\n",
    "                    model='gpt-3.5-turbo',\n",
    "                    messages=msg\n",
    "                    )\n",
    "    return completion['choices'][0]['message']['content']"
   ]
  },
  {
   "cell_type": "code",
   "execution_count": 17,
   "metadata": {},
   "outputs": [],
   "source": [
    "msg_prompt = {\n",
    "    'recom' : {\n",
    "                'system' : \"당신은 사용자의 질문에 따라 레시피를 추천하는 유용한 도우미입니다.\", \n",
    "                'user' : \"사용자에게 레시피를 추천할 때, '👨🏻‍🍳 그럼요!'으로 시작하는 간단한 인사말 1문장을 작성하세요.\", \n",
    "              },\n",
    "    'desc' : {\n",
    "                'system' : \"You are a helpful assistant who kindly answers.\", \n",
    "                'user' : \"Please write a simple greeting starting with 'of course' to explain the recipes to the user.\", \n",
    "              },\n",
    "    'intent' : {\n",
    "                'system' : \"You are a helpful assistant who understands the intent of the user's question.\",\n",
    "                'user' : \"Which category does the sentence below belong to: 'description', 'recommended', 'search'? Show only categories. \\n context:\"\n",
    "                }\n",
    "}"
   ]
  },
  {
   "cell_type": "code",
   "execution_count": 18,
   "metadata": {},
   "outputs": [
    {
     "data": {
      "text/plain": [
       "{'recom': {'system': '당신은 사용자의 질문에 따라 레시피를 추천하는 유용한 도우미입니다.',\n",
       "  'user': \"사용자에게 레시피를 추천할 때, '👨🏻\\u200d🍳 그럼요!'으로 시작하는 간단한 인사말 1문장을 작성하세요.\"},\n",
       " 'desc': {'system': 'You are a helpful assistant who kindly answers.',\n",
       "  'user': \"Please write a simple greeting starting with 'of course' to explain the recipes to the user.\"},\n",
       " 'intent': {'system': \"You are a helpful assistant who understands the intent of the user's question.\",\n",
       "  'user': \"Which category does the sentence below belong to: 'description', 'recommended', 'search'? Show only categories. \\n context:\"}}"
      ]
     },
     "execution_count": 18,
     "metadata": {},
     "output_type": "execute_result"
    }
   ],
   "source": [
    "msg_prompt"
   ]
  },
  {
   "cell_type": "code",
   "execution_count": 19,
   "metadata": {},
   "outputs": [],
   "source": [
    "user_msg_history = []"
   ]
  },
  {
   "cell_type": "code",
   "execution_count": 20,
   "metadata": {},
   "outputs": [],
   "source": [
    "def get_chatgpt_msg(msg):\n",
    "    completion = openai.ChatCompletion.create(\n",
    "                    model='gpt-3.5-turbo',\n",
    "                    messages=msg\n",
    "                    )\n",
    "    return completion['choices'][0]['message']['content']"
   ]
  },
  {
   "cell_type": "code",
   "execution_count": 21,
   "metadata": {},
   "outputs": [],
   "source": [
    "def set_prompt(intent, query, msg_prompt_init, model):\n",
    "    '''prompt 형태를 만들어주는 함수'''\n",
    "    m = dict()\n",
    "    # 검색 또는 추천이면\n",
    "    if ('recom' in intent) or ('search' in intent):\n",
    "        msg = msg_prompt_init['recom'] # 시스템 메세지를 가지고오고\n",
    "    # 설명문이면\n",
    "    elif 'desc' in intent:\n",
    "        msg = msg_prompt_init['desc'] # 시스템 메세지를 가지고오고\n",
    "    # intent 파악\n",
    "    else:\n",
    "        msg = msg_prompt_init['intent']\n",
    "        msg['user'] += f' {query} \\n A:'\n",
    "    for k, v in msg.items():\n",
    "        m['role'], m['content'] = k, v\n",
    "    return [m]"
   ]
  },
  {
   "cell_type": "code",
   "execution_count": 22,
   "metadata": {},
   "outputs": [],
   "source": [
    "def user_interact(query, model, msg_prompt_init):\n",
    "    # 1. 사용자의 의도를 파악\n",
    "    user_intent = set_prompt('intent', query, msg_prompt_init, None)\n",
    "    user_intent = get_chatgpt_msg(user_intent).lower()\n",
    "    print(\"user_intent : \", user_intent)\n",
    "    \n",
    "    # 2. 사용자의 쿼리에 따라 prompt 생성    \n",
    "    intent_data = set_prompt(user_intent, query, msg_prompt_init, model)\n",
    "    intent_data_msg = get_chatgpt_msg(intent_data).replace(\"\\n\", \"\").strip()\n",
    "    print(\"intent_data_msg : \", intent_data_msg)\n",
    "    \n",
    "    # 3-1. 추천 또는 검색이면\n",
    "    if ('recom' in user_intent) or ('search' in user_intent):\n",
    "        recom_msg = str()\n",
    "        # 기존에 메세지가 있으면 쿼리로 대체\n",
    "        if (len(user_msg_history) > 0 ) and (user_msg_history[-1]['role'] == 'assistant'):\n",
    "            query = user_msg_history[-1]['content']['feature']\n",
    "        # 유사 아이템 가져오기\n",
    "        #top_result = get_query_sim_top_k(query, model, movies_metadata, top_k=1 if 'recom' in user_intent else 3) # 추천 개수 설정하려면!\n",
    "        top_result = get_query_sim_top_k(query, model, df)\n",
    "        #print(\"top_result : \", top_result)\n",
    "        # 검색이면, 자기 자신의 컨텐츠는 제외\n",
    "        top_index = top_result[1].numpy() if 'recom' in user_intent else top_result[1].numpy()[1:]\n",
    "        #print(\"top_index : \", top_index)\n",
    "        # 장르, 제목, overview를 가져와서 출력\n",
    "        r_set_d = df.iloc[top_index, :][['요리', '종류', '재료']]\n",
    "        r_set_d = json.loads(r_set_d.to_json(orient=\"records\"))\n",
    "        for r in r_set_d:\n",
    "            for _, v in r.items():\n",
    "                recom_msg += f\"{v} \\n\"\n",
    "            recom_msg += \"\\n\"\n",
    "        user_msg_history.append({'role' : 'assistant', 'content' : f\"{intent_data_msg} {str(recom_msg)}\"})\n",
    "        print(f\"\\nrecom data : {intent_data_msg} \\n{str(recom_msg)}\")\n",
    "    # 3-2. 설명이면\n",
    "    elif 'desc' in user_intent:\n",
    "        # 이전 메세지에 따라서 설명을 가져와야 하기 때문에 이전 메세지 컨텐츠를 가져옴\n",
    "        top_result = get_query_sim_top_k(user_msg_history[-1]['content'], model, df)\n",
    "        # feature가 상세 설명이라고 가정하고 해당 컬럼의 값을 가져와 출력\n",
    "        r_set_d = df.iloc[top_result[1].numpy(), :][['feature']]\n",
    "        r_set_d = json.loads(r_set_d.to_json(orient=\"records\"))[0]\n",
    "        user_msg_history.append({'role' : 'assistant', 'content' : r_set_d})\n",
    "        print(f\"\\n describe : {intent_data_msg} {r_set_d}\")"
   ]
  },
  {
   "cell_type": "code",
   "execution_count": 23,
   "metadata": {},
   "outputs": [
    {
     "name": "stdout",
     "output_type": "stream",
     "text": [
      "user_intent :  recommended\n",
      "intent_data_msg :  👨🏻‍🍳 그럼요! 이번에 추천해드릴 레시피는 어떤 것이 좋을까요?\n",
      "\n",
      "recom data : 👨🏻‍🍳 그럼요! 이번에 추천해드릴 레시피는 어떤 것이 좋을까요? \n",
      "육전 \n",
      "메인요리 \n",
      "간장 달걀 올리고당 쇠고기 영양부추 설탕 식초 양파 부침가루 사비 \n",
      "\n",
      "육전 \n",
      "안주 \n",
      "간장 달걀 올리고당 쇠고기 영양부추 설탕 식초 양파 부침가루 사비 \n",
      "\n",
      "육전 \n",
      "초대요리 \n",
      "간장 달걀 올리고당 쇠고기 영양부추 설탕 식초 양파 부침가루 사비 \n",
      "\n",
      "쇠고기고추장스튜  \n",
      "초대요리 \n",
      "포도씨유 쇠고기 물 고추장 채소스톡큐브 감자 양파 \n",
      "\n",
      "쇠고기고추장스튜  \n",
      "간단요리 \n",
      "포도씨유 쇠고기 물 고추장 채소스톡큐브 감자 양파 \n",
      "\n",
      "\n"
     ]
    }
   ],
   "source": [
    "query = \"돼지고기와 양파가 들어간 음식을 추천해줘\"\n",
    "user_interact(query, model, copy.deepcopy(msg_prompt))"
   ]
  }
 ],
 "metadata": {
  "kernelspec": {
   "display_name": "base",
   "language": "python",
   "name": "python3"
  },
  "language_info": {
   "codemirror_mode": {
    "name": "ipython",
    "version": 3
   },
   "file_extension": ".py",
   "mimetype": "text/x-python",
   "name": "python",
   "nbconvert_exporter": "python",
   "pygments_lexer": "ipython3",
   "version": "3.10.10"
  },
  "orig_nbformat": 4
 },
 "nbformat": 4,
 "nbformat_minor": 2
}
