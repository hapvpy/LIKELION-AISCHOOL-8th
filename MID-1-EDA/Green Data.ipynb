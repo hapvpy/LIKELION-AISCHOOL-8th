{
 "cells": [
  {
   "cell_type": "markdown",
   "id": "d2a412e3",
   "metadata": {},
   "source": [
    "# 라이브러리 설치 및 데이터 불러오기"
   ]
  },
  {
   "cell_type": "code",
   "execution_count": 1,
   "id": "047f6cba",
   "metadata": {},
   "outputs": [],
   "source": [
    "from glob import glob\n",
    "import pandas as pd\n",
    "import requests\n",
    "from bs4 import BeautifulSoup as bs"
   ]
  },
  {
   "cell_type": "code",
   "execution_count": 2,
   "id": "9af96fd2",
   "metadata": {},
   "outputs": [
    {
     "data": {
      "text/plain": [
       "['exercise count.csv',\n",
       " 'finaldata.csv',\n",
       " 'fulldata_10_31_01_P_golf.csv',\n",
       " 'fulldata_10_42_01_P_체력단련장업.CSV',\n",
       " 'number of person.csv',\n",
       " 'population density.csv',\n",
       " '구면적, 인구밀도, 센터밀도.csv',\n",
       " '상관계수 구하기.csv',\n",
       " '서울시 관광 자연.csv',\n",
       " '서울시 주요 공원현황.csv',\n",
       " '서울시_연말정산데이터.csv',\n",
       " '서울시_인구데이터.csv',\n",
       " '서울시사업체수.csv',\n",
       " '서울시소득.csv',\n",
       " '연령대.csv',\n",
       " '인구밀도_20230222102711.csv']"
      ]
     },
     "execution_count": 2,
     "metadata": {},
     "output_type": "execute_result"
    }
   ],
   "source": [
    "file_names = glob('*.csv')\n",
    "file_names"
   ]
  },
  {
   "cell_type": "markdown",
   "id": "a51e70ba",
   "metadata": {},
   "source": [
    "## 첫 번째 데이터 불러오기 및 전처리"
   ]
  },
  {
   "cell_type": "code",
   "execution_count": 48,
   "id": "a14a72ea",
   "metadata": {
    "collapsed": true
   },
   "outputs": [
    {
     "data": {
      "text/html": [
       "<div>\n",
       "<style scoped>\n",
       "    .dataframe tbody tr th:only-of-type {\n",
       "        vertical-align: middle;\n",
       "    }\n",
       "\n",
       "    .dataframe tbody tr th {\n",
       "        vertical-align: top;\n",
       "    }\n",
       "\n",
       "    .dataframe thead th {\n",
       "        text-align: right;\n",
       "    }\n",
       "</style>\n",
       "<table border=\"1\" class=\"dataframe\">\n",
       "  <thead>\n",
       "    <tr style=\"text-align: right;\">\n",
       "      <th></th>\n",
       "      <th>연번</th>\n",
       "      <th>공원명</th>\n",
       "      <th>공원개요</th>\n",
       "      <th>면적</th>\n",
       "      <th>개원일</th>\n",
       "      <th>주요시설</th>\n",
       "      <th>주요식물</th>\n",
       "      <th>안내도</th>\n",
       "      <th>오시는길</th>\n",
       "      <th>이용시참고사항</th>\n",
       "      <th>이미지</th>\n",
       "      <th>지역</th>\n",
       "      <th>공원주소</th>\n",
       "      <th>관리부서</th>\n",
       "      <th>전화번호</th>\n",
       "      <th>X좌표(GRS80TM)</th>\n",
       "      <th>Y좌표(GRS80TM)</th>\n",
       "      <th>X좌표(WGS84)</th>\n",
       "      <th>Y좌표(WGS84)</th>\n",
       "      <th>바로가기</th>\n",
       "    </tr>\n",
       "  </thead>\n",
       "  <tbody>\n",
       "    <tr>\n",
       "      <th>0</th>\n",
       "      <td>1</td>\n",
       "      <td>남산도시자연공원</td>\n",
       "      <td>남산공원은 도심에 위치하여 서울시민에게 맑은 공기를 제공하는 자연휴식처이며 산책 꽃...</td>\n",
       "      <td>2896887㎡ 임 야 : 2454140㎡ 녹지대 및 기타시설 : 442747㎡</td>\n",
       "      <td>1968.9.10</td>\n",
       "      <td>기반시설 : 광장 45950㎡ 도로 108530㎡ 산책로 6.7㎞ (북측:3.7㎞/...</td>\n",
       "      <td>소나무 단풍 아카시아 상수리나무 등 191종 2881870주</td>\n",
       "      <td>http://parks.seoul.go.kr/upload/seditorMulti/2...</td>\n",
       "      <td>명동역(남산케이블카 와룡묘 서울애니메이션센터 방면) 도보 명동역 3번출구 → 퍼시픽...</td>\n",
       "      <td>남산공원 차량통행 금지안내 2005년 5월 1일부터 남산공원에 일반승용차 택시 통행...</td>\n",
       "      <td>http://parks.seoul.go.kr/file/info/view.do?fId...</td>\n",
       "      <td>중구</td>\n",
       "      <td>서울특별시 중구 삼일대로 231(예장동)</td>\n",
       "      <td>서울특별시중부푸른도시사업소</td>\n",
       "      <td>02-3783-5900</td>\n",
       "      <td>198364.107</td>\n",
       "      <td>450395.554</td>\n",
       "      <td>126.990377</td>\n",
       "      <td>37.55014</td>\n",
       "      <td>http://parks.seoul.go.kr/template/sub/namsan.do</td>\n",
       "    </tr>\n",
       "  </tbody>\n",
       "</table>\n",
       "</div>"
      ],
      "text/plain": [
       "   연번       공원명                                               공원개요  \\\n",
       "0   1  남산도시자연공원  남산공원은 도심에 위치하여 서울시민에게 맑은 공기를 제공하는 자연휴식처이며 산책 꽃...   \n",
       "\n",
       "                                             면적        개원일  \\\n",
       "0  2896887㎡ 임 야 : 2454140㎡ 녹지대 및 기타시설 : 442747㎡  1968.9.10   \n",
       "\n",
       "                                                주요시설  \\\n",
       "0  기반시설 : 광장 45950㎡ 도로 108530㎡ 산책로 6.7㎞ (북측:3.7㎞/...   \n",
       "\n",
       "                                주요식물  \\\n",
       "0  소나무 단풍 아카시아 상수리나무 등 191종 2881870주   \n",
       "\n",
       "                                                 안내도  \\\n",
       "0  http://parks.seoul.go.kr/upload/seditorMulti/2...   \n",
       "\n",
       "                                                오시는길  \\\n",
       "0  명동역(남산케이블카 와룡묘 서울애니메이션센터 방면) 도보 명동역 3번출구 → 퍼시픽...   \n",
       "\n",
       "                                             이용시참고사항  \\\n",
       "0  남산공원 차량통행 금지안내 2005년 5월 1일부터 남산공원에 일반승용차 택시 통행...   \n",
       "\n",
       "                                                 이미지  지역  \\\n",
       "0  http://parks.seoul.go.kr/file/info/view.do?fId...  중구   \n",
       "\n",
       "                     공원주소            관리부서          전화번호  X좌표(GRS80TM)  \\\n",
       "0  서울특별시 중구 삼일대로 231(예장동)  서울특별시중부푸른도시사업소  02-3783-5900    198364.107   \n",
       "\n",
       "   Y좌표(GRS80TM)  X좌표(WGS84)  Y좌표(WGS84)  \\\n",
       "0    450395.554  126.990377    37.55014   \n",
       "\n",
       "                                              바로가기  \n",
       "0  http://parks.seoul.go.kr/template/sub/namsan.do  "
      ]
     },
     "execution_count": 48,
     "metadata": {},
     "output_type": "execute_result"
    }
   ],
   "source": [
    "p1 = pd.read_csv('서울시 주요 공원현황.csv', encoding='cp949')\n",
    "p1.head(1)"
   ]
  },
  {
   "cell_type": "code",
   "execution_count": 36,
   "id": "1f68c4d5",
   "metadata": {},
   "outputs": [
    {
     "data": {
      "text/plain": [
       "Index(['연번', '공원명', '공원개요', '면적', '개원일', '주요시설', '주요식물', '안내도', '오시는길',\n",
       "       '이용시참고사항', '이미지', '지역', '공원주소', '관리부서', '전화번호', 'X좌표(GRS80TM)',\n",
       "       'Y좌표(GRS80TM)', 'X좌표(WGS84)', 'Y좌표(WGS84)', '바로가기'],\n",
       "      dtype='object')"
      ]
     },
     "execution_count": 36,
     "metadata": {},
     "output_type": "execute_result"
    }
   ],
   "source": [
    "p1.columns"
   ]
  },
  {
   "cell_type": "code",
   "execution_count": 49,
   "id": "f32c0461",
   "metadata": {},
   "outputs": [
    {
     "data": {
      "text/html": [
       "<div>\n",
       "<style scoped>\n",
       "    .dataframe tbody tr th:only-of-type {\n",
       "        vertical-align: middle;\n",
       "    }\n",
       "\n",
       "    .dataframe tbody tr th {\n",
       "        vertical-align: top;\n",
       "    }\n",
       "\n",
       "    .dataframe thead th {\n",
       "        text-align: right;\n",
       "    }\n",
       "</style>\n",
       "<table border=\"1\" class=\"dataframe\">\n",
       "  <thead>\n",
       "    <tr style=\"text-align: right;\">\n",
       "      <th></th>\n",
       "      <th>공원명</th>\n",
       "      <th>면적</th>\n",
       "      <th>지역</th>\n",
       "      <th>공원주소</th>\n",
       "      <th>X좌표(WGS84)</th>\n",
       "      <th>Y좌표(WGS84)</th>\n",
       "    </tr>\n",
       "  </thead>\n",
       "  <tbody>\n",
       "    <tr>\n",
       "      <th>0</th>\n",
       "      <td>남산도시자연공원</td>\n",
       "      <td>2896887㎡ 임 야 : 2454140㎡ 녹지대 및 기타시설 : 442747㎡</td>\n",
       "      <td>중구</td>\n",
       "      <td>서울특별시 중구 삼일대로 231(예장동)</td>\n",
       "      <td>126.990377</td>\n",
       "      <td>37.550140</td>\n",
       "    </tr>\n",
       "    <tr>\n",
       "      <th>1</th>\n",
       "      <td>길동생태공원</td>\n",
       "      <td>80683㎡</td>\n",
       "      <td>강동구</td>\n",
       "      <td>서울특별시 강동구 천호대로 1291(길동생태공원)</td>\n",
       "      <td>127.154779</td>\n",
       "      <td>37.540394</td>\n",
       "    </tr>\n",
       "  </tbody>\n",
       "</table>\n",
       "</div>"
      ],
      "text/plain": [
       "        공원명                                            면적   지역  \\\n",
       "0  남산도시자연공원  2896887㎡ 임 야 : 2454140㎡ 녹지대 및 기타시설 : 442747㎡   중구   \n",
       "1    길동생태공원                                        80683㎡  강동구   \n",
       "\n",
       "                           공원주소  X좌표(WGS84)  Y좌표(WGS84)  \n",
       "0        서울특별시 중구 삼일대로 231(예장동)  126.990377   37.550140  \n",
       "1  서울특별시 강동구 천호대로 1291(길동생태공원)   127.154779   37.540394  "
      ]
     },
     "execution_count": 49,
     "metadata": {},
     "output_type": "execute_result"
    }
   ],
   "source": [
    "# 불필요한 컬럼 버리기\n",
    "p_1 = p1.drop(columns=['연번', '공원개요', '개원일', '주요시설', '주요식물', '안내도', '오시는길', '이용시참고사항', '이미지', '관리부서', '전화번호', '바로가기', 'X좌표(GRS80TM)','Y좌표(GRS80TM)'], axis=1)\n",
    "p_1.head(2)"
   ]
  },
  {
   "cell_type": "code",
   "execution_count": 50,
   "id": "b75f3d5f",
   "metadata": {},
   "outputs": [
    {
     "data": {
      "text/html": [
       "<div>\n",
       "<style scoped>\n",
       "    .dataframe tbody tr th:only-of-type {\n",
       "        vertical-align: middle;\n",
       "    }\n",
       "\n",
       "    .dataframe tbody tr th {\n",
       "        vertical-align: top;\n",
       "    }\n",
       "\n",
       "    .dataframe thead th {\n",
       "        text-align: right;\n",
       "    }\n",
       "</style>\n",
       "<table border=\"1\" class=\"dataframe\">\n",
       "  <thead>\n",
       "    <tr style=\"text-align: right;\">\n",
       "      <th></th>\n",
       "      <th>공원명</th>\n",
       "      <th>면적</th>\n",
       "      <th>지역</th>\n",
       "      <th>공원주소</th>\n",
       "      <th>X좌표(WGS84)</th>\n",
       "      <th>Y좌표(WGS84)</th>\n",
       "    </tr>\n",
       "  </thead>\n",
       "  <tbody>\n",
       "    <tr>\n",
       "      <th>0</th>\n",
       "      <td>남산도시자연공원</td>\n",
       "      <td>2896887㎡ 임 야 : 2454140㎡ 녹지대 및 기타시설 : 442747㎡</td>\n",
       "      <td>중구</td>\n",
       "      <td>서울특별시 중구 삼일대로 231(예장동)</td>\n",
       "      <td>126.990377</td>\n",
       "      <td>37.550140</td>\n",
       "    </tr>\n",
       "    <tr>\n",
       "      <th>1</th>\n",
       "      <td>길동생태공원</td>\n",
       "      <td>80683㎡</td>\n",
       "      <td>강동구</td>\n",
       "      <td>서울특별시 강동구 천호대로 1291(길동생태공원)</td>\n",
       "      <td>127.154779</td>\n",
       "      <td>37.540394</td>\n",
       "    </tr>\n",
       "  </tbody>\n",
       "</table>\n",
       "</div>"
      ],
      "text/plain": [
       "        공원명                                            면적   지역  \\\n",
       "0  남산도시자연공원  2896887㎡ 임 야 : 2454140㎡ 녹지대 및 기타시설 : 442747㎡   중구   \n",
       "1    길동생태공원                                        80683㎡  강동구   \n",
       "\n",
       "                           공원주소  X좌표(WGS84)  Y좌표(WGS84)  \n",
       "0        서울특별시 중구 삼일대로 231(예장동)  126.990377   37.550140  \n",
       "1  서울특별시 강동구 천호대로 1291(길동생태공원)   127.154779   37.540394  "
      ]
     },
     "execution_count": 50,
     "metadata": {},
     "output_type": "execute_result"
    }
   ],
   "source": [
    "# '서울특별시' 공원정보만 남기기\n",
    "\n",
    "p_1 = p_1[p_1['공원주소'].str.contains(\"서울특별시\")]\n",
    "p_1.head(2)"
   ]
  },
  {
   "cell_type": "code",
   "execution_count": 51,
   "id": "9fbaff53",
   "metadata": {},
   "outputs": [
    {
     "data": {
      "text/html": [
       "<div>\n",
       "<style scoped>\n",
       "    .dataframe tbody tr th:only-of-type {\n",
       "        vertical-align: middle;\n",
       "    }\n",
       "\n",
       "    .dataframe tbody tr th {\n",
       "        vertical-align: top;\n",
       "    }\n",
       "\n",
       "    .dataframe thead th {\n",
       "        text-align: right;\n",
       "    }\n",
       "</style>\n",
       "<table border=\"1\" class=\"dataframe\">\n",
       "  <thead>\n",
       "    <tr style=\"text-align: right;\">\n",
       "      <th></th>\n",
       "      <th>공원명</th>\n",
       "      <th>면적</th>\n",
       "      <th>시군구명</th>\n",
       "      <th>공원주소</th>\n",
       "      <th>경도</th>\n",
       "      <th>위도</th>\n",
       "    </tr>\n",
       "  </thead>\n",
       "  <tbody>\n",
       "    <tr>\n",
       "      <th>0</th>\n",
       "      <td>남산도시자연공원</td>\n",
       "      <td>2896887㎡ 임 야 : 2454140㎡ 녹지대 및 기타시설 : 442747㎡</td>\n",
       "      <td>중구</td>\n",
       "      <td>서울특별시 중구 삼일대로 231(예장동)</td>\n",
       "      <td>126.990377</td>\n",
       "      <td>37.550140</td>\n",
       "    </tr>\n",
       "    <tr>\n",
       "      <th>1</th>\n",
       "      <td>길동생태공원</td>\n",
       "      <td>80683㎡</td>\n",
       "      <td>강동구</td>\n",
       "      <td>서울특별시 강동구 천호대로 1291(길동생태공원)</td>\n",
       "      <td>127.154779</td>\n",
       "      <td>37.540394</td>\n",
       "    </tr>\n",
       "  </tbody>\n",
       "</table>\n",
       "</div>"
      ],
      "text/plain": [
       "        공원명                                            면적 시군구명  \\\n",
       "0  남산도시자연공원  2896887㎡ 임 야 : 2454140㎡ 녹지대 및 기타시설 : 442747㎡   중구   \n",
       "1    길동생태공원                                        80683㎡  강동구   \n",
       "\n",
       "                           공원주소          경도         위도  \n",
       "0        서울특별시 중구 삼일대로 231(예장동)  126.990377  37.550140  \n",
       "1  서울특별시 강동구 천호대로 1291(길동생태공원)   127.154779  37.540394  "
      ]
     },
     "execution_count": 51,
     "metadata": {},
     "output_type": "execute_result"
    }
   ],
   "source": [
    "# 컬럼명 바꾸기\n",
    "\n",
    "p_1 = p_1.rename(columns={\"지역\" : \"시군구명\", \"X좌표(WGS84)\" : \"경도\", \"Y좌표(WGS84)\":\"위도\"})\n",
    "p_1.head(2)"
   ]
  },
  {
   "cell_type": "code",
   "execution_count": 52,
   "id": "6a14c843",
   "metadata": {},
   "outputs": [],
   "source": [
    "p_1['면적(㎡)'] = p_1['면적'].str.extract(r'(\\d+)')\n",
    "p_1 = p_1.drop(columns=['면적'])"
   ]
  },
  {
   "cell_type": "code",
   "execution_count": 54,
   "id": "472f4a5a",
   "metadata": {},
   "outputs": [
    {
     "data": {
      "text/html": [
       "<div>\n",
       "<style scoped>\n",
       "    .dataframe tbody tr th:only-of-type {\n",
       "        vertical-align: middle;\n",
       "    }\n",
       "\n",
       "    .dataframe tbody tr th {\n",
       "        vertical-align: top;\n",
       "    }\n",
       "\n",
       "    .dataframe thead th {\n",
       "        text-align: right;\n",
       "    }\n",
       "</style>\n",
       "<table border=\"1\" class=\"dataframe\">\n",
       "  <thead>\n",
       "    <tr style=\"text-align: right;\">\n",
       "      <th></th>\n",
       "      <th>공원명</th>\n",
       "      <th>시군구명</th>\n",
       "      <th>공원주소</th>\n",
       "      <th>경도</th>\n",
       "      <th>위도</th>\n",
       "      <th>면적(㎡)</th>\n",
       "    </tr>\n",
       "  </thead>\n",
       "  <tbody>\n",
       "    <tr>\n",
       "      <th>0</th>\n",
       "      <td>남산도시자연공원</td>\n",
       "      <td>중구</td>\n",
       "      <td>서울특별시 중구 삼일대로 231(예장동)</td>\n",
       "      <td>126.990377</td>\n",
       "      <td>37.550140</td>\n",
       "      <td>2896887</td>\n",
       "    </tr>\n",
       "    <tr>\n",
       "      <th>1</th>\n",
       "      <td>길동생태공원</td>\n",
       "      <td>강동구</td>\n",
       "      <td>서울특별시 강동구 천호대로 1291(길동생태공원)</td>\n",
       "      <td>127.154779</td>\n",
       "      <td>37.540394</td>\n",
       "      <td>80683</td>\n",
       "    </tr>\n",
       "    <tr>\n",
       "      <th>3</th>\n",
       "      <td>서울숲</td>\n",
       "      <td>성동구</td>\n",
       "      <td>서울특별시 성동구 뚝섬로 273 (성수동1가)</td>\n",
       "      <td>127.041798</td>\n",
       "      <td>37.543072</td>\n",
       "      <td>480994</td>\n",
       "    </tr>\n",
       "    <tr>\n",
       "      <th>4</th>\n",
       "      <td>월드컵공원</td>\n",
       "      <td>마포구</td>\n",
       "      <td>서울특별시 마포구 하늘공원로 84(월드컵공원)</td>\n",
       "      <td>126.878907</td>\n",
       "      <td>37.571805</td>\n",
       "      <td>2284085</td>\n",
       "    </tr>\n",
       "    <tr>\n",
       "      <th>5</th>\n",
       "      <td>광화문시민열린마당</td>\n",
       "      <td>종로구</td>\n",
       "      <td>서울특별시 종로구 세종로 76-2</td>\n",
       "      <td>126.978023</td>\n",
       "      <td>37.575045</td>\n",
       "      <td>8948</td>\n",
       "    </tr>\n",
       "    <tr>\n",
       "      <th>6</th>\n",
       "      <td>진관근린공원(구파발폭포)</td>\n",
       "      <td>은평구</td>\n",
       "      <td>서울특별시 은평구 진관동 393</td>\n",
       "      <td>126.919216</td>\n",
       "      <td>37.637024</td>\n",
       "      <td>7</td>\n",
       "    </tr>\n",
       "    <tr>\n",
       "      <th>7</th>\n",
       "      <td>중마루근린공원</td>\n",
       "      <td>영등포구</td>\n",
       "      <td>서울특별시 영등포구 영등포동2가 222</td>\n",
       "      <td>126.911267</td>\n",
       "      <td>37.519832</td>\n",
       "      <td>6456</td>\n",
       "    </tr>\n",
       "    <tr>\n",
       "      <th>8</th>\n",
       "      <td>응봉공원</td>\n",
       "      <td>성동구</td>\n",
       "      <td>서울특별시 성동구 금호동1가 산1-72</td>\n",
       "      <td>127.021765</td>\n",
       "      <td>37.557228</td>\n",
       "      <td>80309</td>\n",
       "    </tr>\n",
       "  </tbody>\n",
       "</table>\n",
       "</div>"
      ],
      "text/plain": [
       "             공원명  시군구명                          공원주소          경도         위도  \\\n",
       "0       남산도시자연공원    중구        서울특별시 중구 삼일대로 231(예장동)  126.990377  37.550140   \n",
       "1         길동생태공원   강동구  서울특별시 강동구 천호대로 1291(길동생태공원)   127.154779  37.540394   \n",
       "3            서울숲   성동구    서울특별시 성동구 뚝섬로 273 (성수동1가)   127.041798  37.543072   \n",
       "4          월드컵공원   마포구     서울특별시 마포구 하늘공원로 84(월드컵공원)  126.878907  37.571805   \n",
       "5      광화문시민열린마당   종로구            서울특별시 종로구 세종로 76-2  126.978023  37.575045   \n",
       "6  진관근린공원(구파발폭포)   은평구             서울특별시 은평구 진관동 393  126.919216  37.637024   \n",
       "7        중마루근린공원  영등포구         서울특별시 영등포구 영등포동2가 222  126.911267  37.519832   \n",
       "8           응봉공원   성동구         서울특별시 성동구 금호동1가 산1-72  127.021765  37.557228   \n",
       "\n",
       "     면적(㎡)  \n",
       "0  2896887  \n",
       "1    80683  \n",
       "3   480994  \n",
       "4  2284085  \n",
       "5     8948  \n",
       "6        7  \n",
       "7     6456  \n",
       "8    80309  "
      ]
     },
     "execution_count": 54,
     "metadata": {},
     "output_type": "execute_result"
    }
   ],
   "source": [
    "p_1.head(8)"
   ]
  },
  {
   "cell_type": "code",
   "execution_count": 136,
   "id": "49d09e11",
   "metadata": {
    "scrolled": true
   },
   "outputs": [
    {
     "data": {
      "text/plain": [
       "Index(['공원명', '시군구명', '공원주소', '경도', '위도', '면적(㎡)', '분류'], dtype='object')"
      ]
     },
     "execution_count": 136,
     "metadata": {},
     "output_type": "execute_result"
    }
   ],
   "source": [
    "p_1['분류'] = '공원'\n",
    "p_1.columns"
   ]
  },
  {
   "cell_type": "code",
   "execution_count": 185,
   "id": "00726efd",
   "metadata": {},
   "outputs": [],
   "source": [
    "p_1.to_csv('seoul_park.csv', index=False)"
   ]
  },
  {
   "cell_type": "markdown",
   "id": "1b0e628f",
   "metadata": {},
   "source": [
    "## 두 번째 데이터 불러오기 및 전처리"
   ]
  },
  {
   "cell_type": "code",
   "execution_count": 137,
   "id": "0112fbe8",
   "metadata": {
    "scrolled": true
   },
   "outputs": [
    {
     "data": {
      "text/plain": [
       "(576, 11)"
      ]
     },
     "execution_count": 137,
     "metadata": {},
     "output_type": "execute_result"
    }
   ],
   "source": [
    "p2 = pd.read_csv('서울시 관광 자연.csv', encoding='cp949')\n",
    "p2.shape"
   ]
  },
  {
   "cell_type": "code",
   "execution_count": 138,
   "id": "ddcc9ace",
   "metadata": {},
   "outputs": [
    {
     "data": {
      "text/html": [
       "<div>\n",
       "<style scoped>\n",
       "    .dataframe tbody tr th:only-of-type {\n",
       "        vertical-align: middle;\n",
       "    }\n",
       "\n",
       "    .dataframe tbody tr th {\n",
       "        vertical-align: top;\n",
       "    }\n",
       "\n",
       "    .dataframe thead th {\n",
       "        text-align: right;\n",
       "    }\n",
       "</style>\n",
       "<table border=\"1\" class=\"dataframe\">\n",
       "  <thead>\n",
       "    <tr style=\"text-align: right;\">\n",
       "      <th></th>\n",
       "      <th>고유번호</th>\n",
       "      <th>언어</th>\n",
       "      <th>상호명</th>\n",
       "      <th>주소</th>\n",
       "      <th>신주소</th>\n",
       "      <th>전화번호</th>\n",
       "      <th>웹사이트</th>\n",
       "      <th>운영시간</th>\n",
       "      <th>운영요일</th>\n",
       "      <th>휴무일</th>\n",
       "      <th>교통정보</th>\n",
       "    </tr>\n",
       "  </thead>\n",
       "  <tbody>\n",
       "    <tr>\n",
       "      <th>0</th>\n",
       "      <td>369</td>\n",
       "      <td>ko</td>\n",
       "      <td>북한산국립공원</td>\n",
       "      <td>136-855 서울 성북구 정릉동 산 1-1</td>\n",
       "      <td>02700 서울 성북구 보국문로34길 6-21 (정릉동)</td>\n",
       "      <td>02-909-0497</td>\n",
       "      <td>http://bukhan.knps.or.kr</td>\n",
       "      <td>04:00 ~ 17:00 (3월~11월) 04:00 ~ 16:00 (12월~2월)</td>\n",
       "      <td>매일</td>\n",
       "      <td>NaN</td>\n",
       "      <td>3호선 구파발역 1번 출구로 나와 704번, 34번 버스로 갈아타고 북한산성에서 하...</td>\n",
       "    </tr>\n",
       "    <tr>\n",
       "      <th>3</th>\n",
       "      <td>1981</td>\n",
       "      <td>ko</td>\n",
       "      <td>중랑천 제방</td>\n",
       "      <td>서울 중랑구 면목동 일대</td>\n",
       "      <td>서울특별시 중랑구 면목동 일대</td>\n",
       "      <td>02-938-9520~1</td>\n",
       "      <td>http://jr1000ecocenter.nowon.kr/main.do</td>\n",
       "      <td>NaN</td>\n",
       "      <td>NaN</td>\n",
       "      <td>NaN</td>\n",
       "      <td>7호선 중화 3번, 4번 출구 도보 10분  1호선 신이문 3번 출구 도보 10분 ...</td>\n",
       "    </tr>\n",
       "  </tbody>\n",
       "</table>\n",
       "</div>"
      ],
      "text/plain": [
       "   고유번호  언어      상호명                         주소  \\\n",
       "0   369  ko  북한산국립공원  136-855 서울 성북구 정릉동 산 1-1    \n",
       "3  1981  ko   중랑천 제방              서울 중랑구 면목동 일대   \n",
       "\n",
       "                                신주소           전화번호  \\\n",
       "0  02700 서울 성북구 보국문로34길 6-21 (정릉동)     02-909-0497   \n",
       "3                 서울특별시 중랑구 면목동 일대   02-938-9520~1   \n",
       "\n",
       "                                      웹사이트  \\\n",
       "0                 http://bukhan.knps.or.kr   \n",
       "3  http://jr1000ecocenter.nowon.kr/main.do   \n",
       "\n",
       "                                            운영시간 운영요일  휴무일  \\\n",
       "0  04:00 ~ 17:00 (3월~11월) 04:00 ~ 16:00 (12월~2월)   매일  NaN   \n",
       "3                                            NaN  NaN  NaN   \n",
       "\n",
       "                                                교통정보  \n",
       "0  3호선 구파발역 1번 출구로 나와 704번, 34번 버스로 갈아타고 북한산성에서 하...  \n",
       "3  7호선 중화 3번, 4번 출구 도보 10분  1호선 신이문 3번 출구 도보 10분 ...  "
      ]
     },
     "execution_count": 138,
     "metadata": {},
     "output_type": "execute_result"
    }
   ],
   "source": [
    "# 한국어 자료만 추출하기\n",
    "p_2 = p2[p2['언어'].str.contains('ko')]\n",
    "p_2.head(2)"
   ]
  },
  {
   "cell_type": "code",
   "execution_count": 139,
   "id": "9fd1b4c2",
   "metadata": {},
   "outputs": [
    {
     "name": "stderr",
     "output_type": "stream",
     "text": [
      "C:\\Users\\Myung-ki Min\\AppData\\Local\\Temp\\ipykernel_19852\\2056628398.py:3: SettingWithCopyWarning: \n",
      "A value is trying to be set on a copy of a slice from a DataFrame.\n",
      "Try using .loc[row_indexer,col_indexer] = value instead\n",
      "\n",
      "See the caveats in the documentation: https://pandas.pydata.org/pandas-docs/stable/user_guide/indexing.html#returning-a-view-versus-a-copy\n",
      "  p_2['시군구명'] = p_2['주소'].str.extract('( \\w*구 )')\n"
     ]
    },
    {
     "data": {
      "text/html": [
       "<div>\n",
       "<style scoped>\n",
       "    .dataframe tbody tr th:only-of-type {\n",
       "        vertical-align: middle;\n",
       "    }\n",
       "\n",
       "    .dataframe tbody tr th {\n",
       "        vertical-align: top;\n",
       "    }\n",
       "\n",
       "    .dataframe thead th {\n",
       "        text-align: right;\n",
       "    }\n",
       "</style>\n",
       "<table border=\"1\" class=\"dataframe\">\n",
       "  <thead>\n",
       "    <tr style=\"text-align: right;\">\n",
       "      <th></th>\n",
       "      <th>고유번호</th>\n",
       "      <th>언어</th>\n",
       "      <th>상호명</th>\n",
       "      <th>주소</th>\n",
       "      <th>신주소</th>\n",
       "      <th>전화번호</th>\n",
       "      <th>웹사이트</th>\n",
       "      <th>운영시간</th>\n",
       "      <th>운영요일</th>\n",
       "      <th>휴무일</th>\n",
       "      <th>교통정보</th>\n",
       "      <th>시군구명</th>\n",
       "    </tr>\n",
       "  </thead>\n",
       "  <tbody>\n",
       "    <tr>\n",
       "      <th>0</th>\n",
       "      <td>369</td>\n",
       "      <td>ko</td>\n",
       "      <td>북한산국립공원</td>\n",
       "      <td>136-855 서울 성북구 정릉동 산 1-1</td>\n",
       "      <td>02700 서울 성북구 보국문로34길 6-21 (정릉동)</td>\n",
       "      <td>02-909-0497</td>\n",
       "      <td>http://bukhan.knps.or.kr</td>\n",
       "      <td>04:00 ~ 17:00 (3월~11월) 04:00 ~ 16:00 (12월~2월)</td>\n",
       "      <td>매일</td>\n",
       "      <td>NaN</td>\n",
       "      <td>3호선 구파발역 1번 출구로 나와 704번, 34번 버스로 갈아타고 북한산성에서 하...</td>\n",
       "      <td>성북구</td>\n",
       "    </tr>\n",
       "    <tr>\n",
       "      <th>3</th>\n",
       "      <td>1981</td>\n",
       "      <td>ko</td>\n",
       "      <td>중랑천 제방</td>\n",
       "      <td>서울 중랑구 면목동 일대</td>\n",
       "      <td>서울특별시 중랑구 면목동 일대</td>\n",
       "      <td>02-938-9520~1</td>\n",
       "      <td>http://jr1000ecocenter.nowon.kr/main.do</td>\n",
       "      <td>NaN</td>\n",
       "      <td>NaN</td>\n",
       "      <td>NaN</td>\n",
       "      <td>7호선 중화 3번, 4번 출구 도보 10분  1호선 신이문 3번 출구 도보 10분 ...</td>\n",
       "      <td>중랑구</td>\n",
       "    </tr>\n",
       "  </tbody>\n",
       "</table>\n",
       "</div>"
      ],
      "text/plain": [
       "   고유번호  언어      상호명                         주소  \\\n",
       "0   369  ko  북한산국립공원  136-855 서울 성북구 정릉동 산 1-1    \n",
       "3  1981  ko   중랑천 제방              서울 중랑구 면목동 일대   \n",
       "\n",
       "                                신주소           전화번호  \\\n",
       "0  02700 서울 성북구 보국문로34길 6-21 (정릉동)     02-909-0497   \n",
       "3                 서울특별시 중랑구 면목동 일대   02-938-9520~1   \n",
       "\n",
       "                                      웹사이트  \\\n",
       "0                 http://bukhan.knps.or.kr   \n",
       "3  http://jr1000ecocenter.nowon.kr/main.do   \n",
       "\n",
       "                                            운영시간 운영요일  휴무일  \\\n",
       "0  04:00 ~ 17:00 (3월~11월) 04:00 ~ 16:00 (12월~2월)   매일  NaN   \n",
       "3                                            NaN  NaN  NaN   \n",
       "\n",
       "                                                교통정보   시군구명  \n",
       "0  3호선 구파발역 1번 출구로 나와 704번, 34번 버스로 갈아타고 북한산성에서 하...   성북구   \n",
       "3  7호선 중화 3번, 4번 출구 도보 10분  1호선 신이문 3번 출구 도보 10분 ...   중랑구   "
      ]
     },
     "execution_count": 139,
     "metadata": {},
     "output_type": "execute_result"
    }
   ],
   "source": [
    "# '시군구' 추출해서 컬럼 생성하기\n",
    "# 끝글자 '구'로 인식하여 인덱싱하기\n",
    "p_2['시군구명'] = p_2['주소'].str.extract('( \\w*구 )')\n",
    "p_2.head(2)"
   ]
  },
  {
   "cell_type": "code",
   "execution_count": 140,
   "id": "af64257f",
   "metadata": {},
   "outputs": [
    {
     "data": {
      "text/plain": [
       "Index(['고유번호', '언어', '상호명', '주소', '신주소', '전화번호', '웹사이트', '운영시간', '운영요일', '휴무일',\n",
       "       '교통정보', '시군구명'],\n",
       "      dtype='object')"
      ]
     },
     "execution_count": 140,
     "metadata": {},
     "output_type": "execute_result"
    }
   ],
   "source": [
    "p_2.columns"
   ]
  },
  {
   "cell_type": "code",
   "execution_count": 153,
   "id": "c4486925",
   "metadata": {},
   "outputs": [
    {
     "data": {
      "text/plain": [
       "(118, 3)"
      ]
     },
     "execution_count": 153,
     "metadata": {},
     "output_type": "execute_result"
    }
   ],
   "source": [
    "# 불필요한 컬럼 삭제하기\n",
    "p2 = p_2.drop(columns=['고유번호', '언어', '주소','전화번호', '웹사이트', '운영시간', '운영요일', '휴무일', '교통정보'])\n",
    "p2.shape"
   ]
  },
  {
   "cell_type": "code",
   "execution_count": 165,
   "id": "c6d62a87",
   "metadata": {},
   "outputs": [
    {
     "name": "stderr",
     "output_type": "stream",
     "text": [
      "C:\\Users\\Myung-ki Min\\AppData\\Local\\Temp\\ipykernel_19852\\3148851425.py:4: SettingWithCopyWarning: \n",
      "A value is trying to be set on a copy of a slice from a DataFrame.\n",
      "Try using .loc[row_indexer,col_indexer] = value instead\n",
      "\n",
      "See the caveats in the documentation: https://pandas.pydata.org/pandas-docs/stable/user_guide/indexing.html#returning-a-view-versus-a-copy\n",
      "  pk['분류']  = '공원'\n"
     ]
    },
    {
     "data": {
      "text/html": [
       "<div>\n",
       "<style scoped>\n",
       "    .dataframe tbody tr th:only-of-type {\n",
       "        vertical-align: middle;\n",
       "    }\n",
       "\n",
       "    .dataframe tbody tr th {\n",
       "        vertical-align: top;\n",
       "    }\n",
       "\n",
       "    .dataframe thead th {\n",
       "        text-align: right;\n",
       "    }\n",
       "</style>\n",
       "<table border=\"1\" class=\"dataframe\">\n",
       "  <thead>\n",
       "    <tr style=\"text-align: right;\">\n",
       "      <th></th>\n",
       "      <th>상호명</th>\n",
       "      <th>신주소</th>\n",
       "      <th>시군구명</th>\n",
       "      <th>분류</th>\n",
       "    </tr>\n",
       "  </thead>\n",
       "  <tbody>\n",
       "    <tr>\n",
       "      <th>0</th>\n",
       "      <td>북한산국립공원</td>\n",
       "      <td>02700 서울 성북구 보국문로34길 6-21 (정릉동)</td>\n",
       "      <td>성북구</td>\n",
       "      <td>공원</td>\n",
       "    </tr>\n",
       "    <tr>\n",
       "      <th>4</th>\n",
       "      <td>구암공원</td>\n",
       "      <td>07525 서울 강서구 허준로5길 42 (가양동, 구암공원관리사무실)</td>\n",
       "      <td>강서구</td>\n",
       "      <td>공원</td>\n",
       "    </tr>\n",
       "  </tbody>\n",
       "</table>\n",
       "</div>"
      ],
      "text/plain": [
       "       상호명                                      신주소   시군구명  분류\n",
       "0  북한산국립공원         02700 서울 성북구 보국문로34길 6-21 (정릉동)    성북구   공원\n",
       "4     구암공원  07525 서울 강서구 허준로5길 42 (가양동, 구암공원관리사무실)    강서구   공원"
      ]
     },
     "execution_count": 165,
     "metadata": {},
     "output_type": "execute_result"
    }
   ],
   "source": [
    "# 분류하기 : '산', '공원', '계곡', '길', '섬'&'강'\n",
    "# 1) 공원부터 추출\n",
    "pk = p2[p2['상호명'].str.contains(\"공원\")]\n",
    "pk['분류']  = '공원'\n",
    "pk.head(2)"
   ]
  },
  {
   "cell_type": "code",
   "execution_count": 166,
   "id": "f62cd4ee",
   "metadata": {},
   "outputs": [
    {
     "name": "stderr",
     "output_type": "stream",
     "text": [
      "C:\\Users\\Myung-ki Min\\AppData\\Local\\Temp\\ipykernel_19852\\3505846678.py:5: SettingWithCopyWarning: \n",
      "A value is trying to be set on a copy of a slice from a DataFrame.\n",
      "Try using .loc[row_indexer,col_indexer] = value instead\n",
      "\n",
      "See the caveats in the documentation: https://pandas.pydata.org/pandas-docs/stable/user_guide/indexing.html#returning-a-view-versus-a-copy\n",
      "  rd['분류'] = '산책로'\n"
     ]
    },
    {
     "data": {
      "text/plain": [
       "(10, 4)"
      ]
     },
     "execution_count": 166,
     "metadata": {},
     "output_type": "execute_result"
    }
   ],
   "source": [
    "# 2) 공원데이터 중복제거\n",
    "p3 = p2[~p2['상호명'].str.contains(\"공원\")]\n",
    "# 3) '길' 추출\n",
    "rd = p3[p3['상호명'].str.contains(\"길|거리\")]\n",
    "rd['분류'] = '산책로'\n",
    "rd.shape"
   ]
  },
  {
   "cell_type": "code",
   "execution_count": 167,
   "id": "16fed6ef",
   "metadata": {},
   "outputs": [
    {
     "name": "stderr",
     "output_type": "stream",
     "text": [
      "C:\\Users\\Myung-ki Min\\AppData\\Local\\Temp\\ipykernel_19852\\2078541372.py:6: SettingWithCopyWarning: \n",
      "A value is trying to be set on a copy of a slice from a DataFrame.\n",
      "Try using .loc[row_indexer,col_indexer] = value instead\n",
      "\n",
      "See the caveats in the documentation: https://pandas.pydata.org/pandas-docs/stable/user_guide/indexing.html#returning-a-view-versus-a-copy\n",
      "  mt['분류'] = '산'\n"
     ]
    },
    {
     "data": {
      "text/plain": [
       "(18, 4)"
      ]
     },
     "execution_count": 167,
     "metadata": {},
     "output_type": "execute_result"
    }
   ],
   "source": [
    "# 분류하기 : '산', '공원', '계곡', '길', '섬'&'강'\n",
    "# 4) '공원', '길' 중복제거 데이터 만들기\n",
    "p4 = p3[~p3['상호명'].str.contains(\"길\")]\n",
    "# 5) '산' 추출\n",
    "mt = p4[p4['상호명'].str.contains(\"산\")]\n",
    "mt['분류'] = '산'\n",
    "mt.shape"
   ]
  },
  {
   "cell_type": "code",
   "execution_count": 168,
   "id": "1f21b670",
   "metadata": {},
   "outputs": [
    {
     "data": {
      "text/plain": [
       "array(['중랑천 제방', '북서울꿈의숲', '석촌호수 야경', '청계천', '불광천 해담는다리', '노들섬', '금선사',\n",
       "       '서래섬', '화랑로 낙엽거리', '우이동계곡', '광진숲나루', '춘당지', '홍릉시험림(홍릉숲)',\n",
       "       '양재시민의 숲', '몽촌토성', '불광천', '홍제천', '뚝섬유원지', '푸른수목원', '백사실계곡',\n",
       "       '중랑캠핑숲', '노원우주학교', '문화비축기지', '수성동계곡', '녹사평역 지하예술정원', '진관사계곡',\n",
       "       '서울숲', '양재천&탄천', '한강', '서울식물원', '삼천사계곡'], dtype=object)"
      ]
     },
     "execution_count": 168,
     "metadata": {},
     "output_type": "execute_result"
    }
   ],
   "source": [
    "# 나머지 데이터 확인하기\n",
    "p5 = p4[~p4['상호명'].str.contains(\"산\")]\n",
    "p5['상호명'].unique()"
   ]
  },
  {
   "cell_type": "code",
   "execution_count": 169,
   "id": "cc4fe87d",
   "metadata": {},
   "outputs": [
    {
     "name": "stderr",
     "output_type": "stream",
     "text": [
      "C:\\Users\\Myung-ki Min\\AppData\\Local\\Temp\\ipykernel_19852\\3062380553.py:3: SettingWithCopyWarning: \n",
      "A value is trying to be set on a copy of a slice from a DataFrame.\n",
      "Try using .loc[row_indexer,col_indexer] = value instead\n",
      "\n",
      "See the caveats in the documentation: https://pandas.pydata.org/pandas-docs/stable/user_guide/indexing.html#returning-a-view-versus-a-copy\n",
      "  rv['분류'] = '하천'\n"
     ]
    },
    {
     "data": {
      "text/plain": [
       "(16, 4)"
      ]
     },
     "execution_count": 169,
     "metadata": {},
     "output_type": "execute_result"
    }
   ],
   "source": [
    "#  => '천', '섬', '호수', '계곡', '강'=> 하천\n",
    "rv = p5[p5['상호명'].str.contains('천|섬|호수|계곡|강')]\n",
    "rv['분류'] = '하천'\n",
    "rv.shape"
   ]
  },
  {
   "cell_type": "code",
   "execution_count": 170,
   "id": "15ed881d",
   "metadata": {},
   "outputs": [
    {
     "name": "stderr",
     "output_type": "stream",
     "text": [
      "C:\\Users\\Myung-ki Min\\AppData\\Local\\Temp\\ipykernel_19852\\895109025.py:3: SettingWithCopyWarning: \n",
      "A value is trying to be set on a copy of a slice from a DataFrame.\n",
      "Try using .loc[row_indexer,col_indexer] = value instead\n",
      "\n",
      "See the caveats in the documentation: https://pandas.pydata.org/pandas-docs/stable/user_guide/indexing.html#returning-a-view-versus-a-copy\n",
      "  p6['분류'] = '그외'\n"
     ]
    }
   ],
   "source": [
    "#  나머지값은 '그외'로 분류\n",
    "p6 = p5[~p5['상호명'].str.contains('천|섬|호수|계곡|강')]\n",
    "p6['분류'] = '그외'"
   ]
  },
  {
   "cell_type": "markdown",
   "id": "d2d26a6f",
   "metadata": {},
   "source": [
    "# 녹지정보 값 합치기 + 컬럼명 통일"
   ]
  },
  {
   "cell_type": "code",
   "execution_count": 171,
   "id": "d1bed49e",
   "metadata": {},
   "outputs": [
    {
     "data": {
      "text/plain": [
       "Index(['공원명', '시군구명', '공원주소', '경도', '위도', '면적(㎡)', '분류'], dtype='object')"
      ]
     },
     "execution_count": 171,
     "metadata": {},
     "output_type": "execute_result"
    }
   ],
   "source": [
    "p_1.columns"
   ]
  },
  {
   "cell_type": "code",
   "execution_count": 176,
   "id": "45ae858e",
   "metadata": {},
   "outputs": [
    {
     "data": {
      "text/html": [
       "<div>\n",
       "<style scoped>\n",
       "    .dataframe tbody tr th:only-of-type {\n",
       "        vertical-align: middle;\n",
       "    }\n",
       "\n",
       "    .dataframe tbody tr th {\n",
       "        vertical-align: top;\n",
       "    }\n",
       "\n",
       "    .dataframe thead th {\n",
       "        text-align: right;\n",
       "    }\n",
       "</style>\n",
       "<table border=\"1\" class=\"dataframe\">\n",
       "  <thead>\n",
       "    <tr style=\"text-align: right;\">\n",
       "      <th></th>\n",
       "      <th>상호명</th>\n",
       "      <th>신주소</th>\n",
       "      <th>시군구명</th>\n",
       "      <th>분류</th>\n",
       "    </tr>\n",
       "  </thead>\n",
       "  <tbody>\n",
       "    <tr>\n",
       "      <th>34</th>\n",
       "      <td>망우산 사색의 길</td>\n",
       "      <td>02178 서울 중랑구 망우로 570 (망우묘지관리사무소)</td>\n",
       "      <td>중랑구</td>\n",
       "      <td>산책로</td>\n",
       "    </tr>\n",
       "  </tbody>\n",
       "</table>\n",
       "</div>"
      ],
      "text/plain": [
       "          상호명                                신주소   시군구명   분류\n",
       "34  망우산 사색의 길  02178 서울 중랑구 망우로 570 (망우묘지관리사무소)    중랑구   산책로"
      ]
     },
     "execution_count": 176,
     "metadata": {},
     "output_type": "execute_result"
    }
   ],
   "source": [
    "green1 = pd.concat([rd, mt, rv, p6])\n",
    "green1.head(1)"
   ]
  },
  {
   "cell_type": "code",
   "execution_count": 177,
   "id": "3647a426",
   "metadata": {},
   "outputs": [
    {
     "data": {
      "text/html": [
       "<div>\n",
       "<style scoped>\n",
       "    .dataframe tbody tr th:only-of-type {\n",
       "        vertical-align: middle;\n",
       "    }\n",
       "\n",
       "    .dataframe tbody tr th {\n",
       "        vertical-align: top;\n",
       "    }\n",
       "\n",
       "    .dataframe thead th {\n",
       "        text-align: right;\n",
       "    }\n",
       "</style>\n",
       "<table border=\"1\" class=\"dataframe\">\n",
       "  <thead>\n",
       "    <tr style=\"text-align: right;\">\n",
       "      <th></th>\n",
       "      <th>공원명</th>\n",
       "      <th>공원주소</th>\n",
       "      <th>시군구명</th>\n",
       "      <th>분류</th>\n",
       "    </tr>\n",
       "  </thead>\n",
       "  <tbody>\n",
       "    <tr>\n",
       "      <th>34</th>\n",
       "      <td>망우산 사색의 길</td>\n",
       "      <td>02178 서울 중랑구 망우로 570 (망우묘지관리사무소)</td>\n",
       "      <td>중랑구</td>\n",
       "      <td>산책로</td>\n",
       "    </tr>\n",
       "  </tbody>\n",
       "</table>\n",
       "</div>"
      ],
      "text/plain": [
       "          공원명                               공원주소   시군구명   분류\n",
       "34  망우산 사색의 길  02178 서울 중랑구 망우로 570 (망우묘지관리사무소)    중랑구   산책로"
      ]
     },
     "execution_count": 177,
     "metadata": {},
     "output_type": "execute_result"
    }
   ],
   "source": [
    "# 컬럼명 변경\n",
    "green1 = green1.rename(columns={'상호명':'공원명', '신주소':'공원주소'})\n",
    "green1.head(1)"
   ]
  },
  {
   "cell_type": "code",
   "execution_count": 183,
   "id": "c5df2bc7",
   "metadata": {},
   "outputs": [
    {
     "ename": "AttributeError",
     "evalue": "'Series' object has no attribute 'split'",
     "output_type": "error",
     "traceback": [
      "\u001b[1;31m---------------------------------------------------------------------------\u001b[0m",
      "\u001b[1;31mAttributeError\u001b[0m                            Traceback (most recent call last)",
      "\u001b[1;32m~\\AppData\\Local\\Temp\\ipykernel_19852\\2007532293.py\u001b[0m in \u001b[0;36m<module>\u001b[1;34m\u001b[0m\n\u001b[0;32m      1\u001b[0m \u001b[1;31m# 주소 정리하기 (우편번호 삭제)\u001b[0m\u001b[1;33m\u001b[0m\u001b[1;33m\u001b[0m\u001b[0m\n\u001b[0;32m      2\u001b[0m \u001b[1;33m\u001b[0m\u001b[0m\n\u001b[1;32m----> 3\u001b[1;33m \u001b[1;34m''\u001b[0m\u001b[1;33m.\u001b[0m\u001b[0mjoin\u001b[0m\u001b[1;33m(\u001b[0m\u001b[0mgreen1\u001b[0m\u001b[1;33m[\u001b[0m\u001b[1;34m'공원주소'\u001b[0m\u001b[1;33m]\u001b[0m\u001b[1;33m.\u001b[0m\u001b[0msplit\u001b[0m\u001b[1;33m(\u001b[0m\u001b[1;33m[\u001b[0m\u001b[1;36m0\u001b[0m\u001b[1;33m-\u001b[0m\u001b[1;36m9\u001b[0m\u001b[1;33m]\u001b[0m\u001b[1;33m,\u001b[0m\u001b[1;36m1\u001b[0m\u001b[1;33m)\u001b[0m\u001b[1;33m)\u001b[0m\u001b[1;33m\u001b[0m\u001b[1;33m\u001b[0m\u001b[0m\n\u001b[0m",
      "\u001b[1;32m~\\anaconda3\\lib\\site-packages\\pandas\\core\\generic.py\u001b[0m in \u001b[0;36m__getattr__\u001b[1;34m(self, name)\u001b[0m\n\u001b[0;32m   5573\u001b[0m         ):\n\u001b[0;32m   5574\u001b[0m             \u001b[1;32mreturn\u001b[0m \u001b[0mself\u001b[0m\u001b[1;33m[\u001b[0m\u001b[0mname\u001b[0m\u001b[1;33m]\u001b[0m\u001b[1;33m\u001b[0m\u001b[1;33m\u001b[0m\u001b[0m\n\u001b[1;32m-> 5575\u001b[1;33m         \u001b[1;32mreturn\u001b[0m \u001b[0mobject\u001b[0m\u001b[1;33m.\u001b[0m\u001b[0m__getattribute__\u001b[0m\u001b[1;33m(\u001b[0m\u001b[0mself\u001b[0m\u001b[1;33m,\u001b[0m \u001b[0mname\u001b[0m\u001b[1;33m)\u001b[0m\u001b[1;33m\u001b[0m\u001b[1;33m\u001b[0m\u001b[0m\n\u001b[0m\u001b[0;32m   5576\u001b[0m \u001b[1;33m\u001b[0m\u001b[0m\n\u001b[0;32m   5577\u001b[0m     \u001b[1;32mdef\u001b[0m \u001b[0m__setattr__\u001b[0m\u001b[1;33m(\u001b[0m\u001b[0mself\u001b[0m\u001b[1;33m,\u001b[0m \u001b[0mname\u001b[0m\u001b[1;33m:\u001b[0m \u001b[0mstr\u001b[0m\u001b[1;33m,\u001b[0m \u001b[0mvalue\u001b[0m\u001b[1;33m)\u001b[0m \u001b[1;33m->\u001b[0m \u001b[1;32mNone\u001b[0m\u001b[1;33m:\u001b[0m\u001b[1;33m\u001b[0m\u001b[1;33m\u001b[0m\u001b[0m\n",
      "\u001b[1;31mAttributeError\u001b[0m: 'Series' object has no attribute 'split'"
     ]
    }
   ],
   "source": [
    "# 주소 정리하기 (우편번호 삭제)\n",
    "\n",
    "''.join(green1['공원주소'].split([0-9],1))"
   ]
  },
  {
   "cell_type": "code",
   "execution_count": null,
   "id": "b03dbb58",
   "metadata": {},
   "outputs": [],
   "source": [
    "# 도로명주소만 남기기\n"
   ]
  },
  {
   "cell_type": "code",
   "execution_count": 163,
   "id": "7ff255f5",
   "metadata": {},
   "outputs": [],
   "source": [
    "# 합치기\n",
    "\n",
    "green = pd.concat([pk, rd, mt, rv, p6])"
   ]
  },
  {
   "cell_type": "code",
   "execution_count": null,
   "id": "57a725d2",
   "metadata": {},
   "outputs": [],
   "source": []
  },
  {
   "cell_type": "code",
   "execution_count": null,
   "id": "0af3250b",
   "metadata": {},
   "outputs": [],
   "source": []
  }
 ],
 "metadata": {
  "kernelspec": {
   "display_name": "Python 3 (ipykernel)",
   "language": "python",
   "name": "python3"
  },
  "language_info": {
   "codemirror_mode": {
    "name": "ipython",
    "version": 3
   },
   "file_extension": ".py",
   "mimetype": "text/x-python",
   "name": "python",
   "nbconvert_exporter": "python",
   "pygments_lexer": "ipython3",
   "version": "3.9.13"
  },
  "toc": {
   "base_numbering": 1,
   "nav_menu": {},
   "number_sections": true,
   "sideBar": true,
   "skip_h1_title": false,
   "title_cell": "Table of Contents",
   "title_sidebar": "Contents",
   "toc_cell": false,
   "toc_position": {},
   "toc_section_display": true,
   "toc_window_display": false
  }
 },
 "nbformat": 4,
 "nbformat_minor": 5
}
